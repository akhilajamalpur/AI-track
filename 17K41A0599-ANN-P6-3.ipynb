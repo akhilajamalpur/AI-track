{
 "cells": [
  {
   "cell_type": "code",
   "execution_count": 1,
   "metadata": {},
   "outputs": [],
   "source": [
    "import pandas as pd\n",
    "import numpy as np"
   ]
  },
  {
   "cell_type": "code",
   "execution_count": 4,
   "metadata": {},
   "outputs": [
    {
     "name": "stdout",
     "output_type": "stream",
     "text": [
      "Load (kW)     3377.9196\n",
      "Unnamed: 3          NaN\n",
      "Unnamed: 4          NaN\n",
      "Unnamed: 5          NaN\n",
      "Unnamed: 6          NaN\n",
      "Unnamed: 7          NaN\n",
      "Unnamed: 8          NaN\n",
      "Unnamed: 9          NaN\n",
      "dtype: float64\n",
      "Load (kW)     8841.66948\n",
      "Unnamed: 3           NaN\n",
      "Unnamed: 4           NaN\n",
      "Unnamed: 5           NaN\n",
      "Unnamed: 6           NaN\n",
      "Unnamed: 7           NaN\n",
      "Unnamed: 8           NaN\n",
      "Unnamed: 9           NaN\n",
      "dtype: float64\n"
     ]
    }
   ],
   "source": [
    "data=pd.read_csv('Load Data in kW.csv')\n",
    "data.head()\n",
    "min_load=data.min()\n",
    "print(min_load)\n",
    "max_load=data.max()\n",
    "print(max_load)"
   ]
  },
  {
   "cell_type": "code",
   "execution_count": 14,
   "metadata": {},
   "outputs": [],
   "source": [
    "from sklearn.preprocessing import MinMaxScaler\n",
    "ms=MinMaxScaler()"
   ]
  },
  {
   "cell_type": "code",
   "execution_count": 15,
   "metadata": {},
   "outputs": [
    {
     "name": "stdout",
     "output_type": "stream",
     "text": [
      "(2112, 7)\n"
     ]
    }
   ],
   "source": [
    "a=np.zeros((len(data)-72,7))\n",
    "print(a.shape)"
   ]
  },
  {
   "cell_type": "code",
   "execution_count": 19,
   "metadata": {},
   "outputs": [
    {
     "name": "stdout",
     "output_type": "stream",
     "text": [
      "(1905, 7)\n",
      "(101, 7)\n",
      "1905\n",
      "101\n"
     ]
    }
   ],
   "source": [
    "from sklearn.model_selection import train_test_split\n",
    "a,a_test=train_test_split(a,test_size=0.05,random_state=1)\n",
    "print(a.shape)\n",
    "print(a_test.shape)\n",
    "q1=len(a)\n",
    "print(q1)\n",
    "q2=len(a_test)\n",
    "print(q2)"
   ]
  },
  {
   "cell_type": "code",
   "execution_count": 20,
   "metadata": {},
   "outputs": [
    {
     "name": "stdout",
     "output_type": "stream",
     "text": [
      "(6, 1)\n",
      "[[ 0.06274413]\n",
      " [-0.92403334]\n",
      " [-0.3098307 ]\n",
      " [-0.66601787]\n",
      " [ 0.4890539 ]\n",
      " [ 0.38271056]]\n"
     ]
    }
   ],
   "source": [
    "weights=np.random.uniform(-1,1,size=(6,1))\n",
    "print(weights.shape)\n",
    "print(weights)"
   ]
  },
  {
   "cell_type": "code",
   "execution_count": 21,
   "metadata": {},
   "outputs": [
    {
     "name": "stdout",
     "output_type": "stream",
     "text": [
      "[[-0.]\n",
      " [-0.]\n",
      " [-0.]\n",
      " [-0.]\n",
      " [-0.]\n",
      " [-0.]]\n",
      "[[ 0.06274413]\n",
      " [-0.92403334]\n",
      " [-0.3098307 ]\n",
      " [-0.66601787]\n",
      " [ 0.4890539 ]\n",
      " [ 0.38271056]]\n"
     ]
    }
   ],
   "source": [
    "l=0.001\n",
    "for i in range(100):\n",
    "    for j in range(q1):\n",
    "        n=np.dot(a[j,0:6],weights)\n",
    "        o=1/(1+np.exp(-n))\n",
    "        dw=(l*(a[[j],6]-o))*o*(1-o)*a[[j],0:6].T\n",
    "        weights=weights+dw\n",
    "print(dw)\n",
    "print(weights)"
   ]
  },
  {
   "cell_type": "code",
   "execution_count": 22,
   "metadata": {},
   "outputs": [],
   "source": [
    "o2=np.zeros((q2,1))\n",
    "for j in range(q2):\n",
    "    n2=np.dot(a_test[j,0:6],weights)\n",
    "    o2[j]=1/(1+np.exp(-n2))\n"
   ]
  },
  {
   "cell_type": "code",
   "execution_count": 28,
   "metadata": {},
   "outputs": [
    {
     "name": "stdout",
     "output_type": "stream",
     "text": [
      "Actual Load= Load (kW)     3377.9196\n",
      "Unnamed: 3          NaN\n",
      "Unnamed: 4          NaN\n",
      "Unnamed: 5          NaN\n",
      "Unnamed: 6          NaN\n",
      "Unnamed: 7          NaN\n",
      "Unnamed: 8          NaN\n",
      "Unnamed: 9          NaN\n",
      "dtype: float64\n",
      "Estimated Load= Load (kW)     6109.79454\n",
      "Unnamed: 3           NaN\n",
      "Unnamed: 4           NaN\n",
      "Unnamed: 5           NaN\n",
      "Unnamed: 6           NaN\n",
      "Unnamed: 7           NaN\n",
      "Unnamed: 8           NaN\n",
      "Unnamed: 9           NaN\n",
      "dtype: float64\n"
     ]
    }
   ],
   "source": [
    "c=10\n",
    "n=np.dot(a[c,0:6],weights)\n",
    "o=1/(1+np.exp(-n))\n",
    "Actual_load=a[c,6]*(max_load-min_load)+min_load\n",
    "Estimated_load=o*(max_load-min_load)+min_load\n",
    "print('Actual Load=',Actual_load)\n",
    "print('Estimated Load=',Estimated_load)"
   ]
  },
  {
   "cell_type": "code",
   "execution_count": null,
   "metadata": {},
   "outputs": [],
   "source": []
  }
 ],
 "metadata": {
  "kernelspec": {
   "display_name": "Python 3",
   "language": "python",
   "name": "python3"
  },
  "language_info": {
   "codemirror_mode": {
    "name": "ipython",
    "version": 3
   },
   "file_extension": ".py",
   "mimetype": "text/x-python",
   "name": "python",
   "nbconvert_exporter": "python",
   "pygments_lexer": "ipython3",
   "version": "3.7.4"
  }
 },
 "nbformat": 4,
 "nbformat_minor": 2
}
