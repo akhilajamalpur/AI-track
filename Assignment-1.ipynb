{
 "cells": [
  {
   "cell_type": "code",
   "execution_count": 1,
   "metadata": {
    "id": "K3Aonmv6chn1",
    "colab_type": "code",
    "colab": {
     "base_uri": "https://localhost:8080/",
     "height": 156.0
    },
    "outputId": "03e33d61-0004-473d-97bf-c146c1082251"
   },
   "outputs": [
    {
     "name": "stdout",
     "output_type": "stream",
     "text": [
      "     con: array([], dtype=float64)\n",
      "     fun: -5778.9473684210525\n",
      " message: 'Optimization terminated successfully.'\n",
      "     nit: 2\n",
      "   slack: array([0., 0.])\n",
      "  status: 0\n",
      " success: True\n",
      "       x: array([97.89473684,  7.36842105])\n"
     ]
    }
   ],
   "source": [
    "from scipy.optimize import linprog\n",
    "obj=[-50,-120]\n",
    "lhs=[[7000,2000],[10,30]]\n",
    "rhs=[700000,1200]\n",
    "boundary=[(0,float(\"inf\")),(0,float(\"inf\"))]\n",
    "opt=linprog(c=obj,A_ub=lhs,b_ub=rhs,bounds=boundary,method=\"Simplex\")\n",
    "print(opt)"
   ]
  }
 ],
 "metadata": {
  "colab": {
   "name": "Untitled0.ipynb",
   "provenance": []
  },
  "kernelspec": {
   "name": "python3",
   "display_name": "Python 3"
  }
 },
 "nbformat": 4,
 "nbformat_minor": 0
}
